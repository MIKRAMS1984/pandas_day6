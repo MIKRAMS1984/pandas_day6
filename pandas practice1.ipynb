{
 "cells": [
  {
   "cell_type": "markdown",
   "metadata": {},
   "source": [
    "**Important Libararies**\n",
    "1. numpy\n",
    "2. pandas\n",
    "3. matplotlib.pyplot\n",
    "4. seaborn\n",
    "5. plotly\n",
    "6. scipy\n",
    "7. scikit-learn\n",
    "8. streamlit"
   ]
  },
  {
   "cell_type": "markdown",
   "metadata": {},
   "source": [
    "# Using pandas library\n",
    "Written by: Muhammad Ikram Shahzad\\\n",
    "Date: 10.11.2023\\\n",
    "Email: muhammad.phdcs183@iiu.edu.pk\n"
   ]
  },
  {
   "cell_type": "markdown",
   "metadata": {},
   "source": [
    "**Importing libararies**"
   ]
  },
  {
   "cell_type": "code",
   "execution_count": 4,
   "metadata": {},
   "outputs": [
    {
     "name": "stdout",
     "output_type": "stream",
     "text": [
      "Collecting pyreadstat\n",
      "  Downloading pyreadstat-1.2.4-cp311-cp311-win_amd64.whl (2.4 MB)\n",
      "                                              0.0/2.4 MB ? eta -:--:--\n",
      "                                              0.0/2.4 MB 1.3 MB/s eta 0:00:02\n",
      "                                              0.0/2.4 MB 1.3 MB/s eta 0:00:02\n",
      "                                              0.0/2.4 MB 245.8 kB/s eta 0:00:10\n",
      "     -                                        0.1/2.4 MB 357.2 kB/s eta 0:00:07\n",
      "     -                                        0.1/2.4 MB 504.4 kB/s eta 0:00:05\n",
      "     --                                       0.1/2.4 MB 450.6 kB/s eta 0:00:06\n",
      "     ---                                      0.2/2.4 MB 590.8 kB/s eta 0:00:04\n",
      "     ---                                      0.2/2.4 MB 654.9 kB/s eta 0:00:04\n",
      "     ----                                     0.3/2.4 MB 605.3 kB/s eta 0:00:04\n",
      "     -----                                    0.3/2.4 MB 678.1 kB/s eta 0:00:04\n",
      "     ------                                   0.4/2.4 MB 740.5 kB/s eta 0:00:03\n",
      "     ------                                   0.4/2.4 MB 692.6 kB/s eta 0:00:03\n",
      "     -------                                  0.5/2.4 MB 741.3 kB/s eta 0:00:03\n",
      "     --------                                 0.5/2.4 MB 823.9 kB/s eta 0:00:03\n",
      "     --------                                 0.5/2.4 MB 823.9 kB/s eta 0:00:03\n",
      "     --------                                 0.5/2.4 MB 823.9 kB/s eta 0:00:03\n",
      "     --------                                 0.5/2.4 MB 823.9 kB/s eta 0:00:03\n",
      "     --------                                 0.5/2.4 MB 823.9 kB/s eta 0:00:03\n",
      "     --------                                 0.5/2.4 MB 823.9 kB/s eta 0:00:03\n",
      "     --------                                 0.5/2.4 MB 566.4 kB/s eta 0:00:04\n",
      "     --------                                 0.5/2.4 MB 566.4 kB/s eta 0:00:04\n",
      "     ----------                               0.6/2.4 MB 623.5 kB/s eta 0:00:03\n",
      "     ------------                             0.7/2.4 MB 715.1 kB/s eta 0:00:03\n",
      "     ------------                             0.8/2.4 MB 713.5 kB/s eta 0:00:03\n",
      "     -------------                            0.8/2.4 MB 718.0 kB/s eta 0:00:03\n",
      "     --------------                           0.9/2.4 MB 733.9 kB/s eta 0:00:03\n",
      "     --------------                           0.9/2.4 MB 733.9 kB/s eta 0:00:03\n",
      "     --------------                           0.9/2.4 MB 733.9 kB/s eta 0:00:03\n",
      "     --------------                           0.9/2.4 MB 733.9 kB/s eta 0:00:03\n",
      "     --------------                           0.9/2.4 MB 647.6 kB/s eta 0:00:03\n",
      "     --------------                           0.9/2.4 MB 647.6 kB/s eta 0:00:03\n",
      "     --------------                           0.9/2.4 MB 647.6 kB/s eta 0:00:03\n",
      "     ----------------                         1.0/2.4 MB 662.4 kB/s eta 0:00:03\n",
      "     ----------------                         1.0/2.4 MB 662.4 kB/s eta 0:00:03\n",
      "     ----------------                         1.0/2.4 MB 662.4 kB/s eta 0:00:03\n",
      "     -------------------                      1.2/2.4 MB 705.8 kB/s eta 0:00:02\n",
      "     -------------------                      1.2/2.4 MB 698.0 kB/s eta 0:00:02\n",
      "     -------------------                      1.2/2.4 MB 697.0 kB/s eta 0:00:02\n",
      "     ---------------------                    1.3/2.4 MB 700.9 kB/s eta 0:00:02\n",
      "     ---------------------                    1.3/2.4 MB 700.9 kB/s eta 0:00:02\n",
      "     ---------------------                    1.3/2.4 MB 700.9 kB/s eta 0:00:02\n",
      "     ---------------------                    1.3/2.4 MB 700.9 kB/s eta 0:00:02\n",
      "     ---------------------                    1.3/2.4 MB 650.1 kB/s eta 0:00:02\n",
      "     ---------------------                    1.3/2.4 MB 655.4 kB/s eta 0:00:02\n",
      "     ---------------------                    1.3/2.4 MB 655.4 kB/s eta 0:00:02\n",
      "     ---------------------                    1.3/2.4 MB 655.4 kB/s eta 0:00:02\n",
      "     ---------------------                    1.3/2.4 MB 655.4 kB/s eta 0:00:02\n",
      "     ---------------------                    1.3/2.4 MB 655.4 kB/s eta 0:00:02\n",
      "     ---------------------                    1.3/2.4 MB 655.4 kB/s eta 0:00:02\n",
      "     -------------------------                1.5/2.4 MB 651.1 kB/s eta 0:00:02\n",
      "     --------------------------               1.6/2.4 MB 673.0 kB/s eta 0:00:02\n",
      "     --------------------------               1.6/2.4 MB 663.8 kB/s eta 0:00:02\n",
      "     --------------------------               1.6/2.4 MB 663.8 kB/s eta 0:00:02\n",
      "     ----------------------------             1.7/2.4 MB 680.2 kB/s eta 0:00:02\n",
      "     ----------------------------             1.7/2.4 MB 679.7 kB/s eta 0:00:02\n",
      "     -----------------------------            1.8/2.4 MB 675.0 kB/s eta 0:00:01\n",
      "     -----------------------------            1.8/2.4 MB 678.8 kB/s eta 0:00:01\n",
      "     -----------------------------            1.8/2.4 MB 678.8 kB/s eta 0:00:01\n",
      "     -----------------------------            1.8/2.4 MB 678.8 kB/s eta 0:00:01\n",
      "     -----------------------------            1.8/2.4 MB 648.1 kB/s eta 0:00:01\n",
      "     -----------------------------            1.8/2.4 MB 648.1 kB/s eta 0:00:01\n",
      "     -----------------------------            1.8/2.4 MB 648.1 kB/s eta 0:00:01\n",
      "     --------------------------------         2.0/2.4 MB 662.4 kB/s eta 0:00:01\n",
      "     --------------------------------         2.0/2.4 MB 662.3 kB/s eta 0:00:01\n",
      "     ---------------------------------        2.0/2.4 MB 662.1 kB/s eta 0:00:01\n",
      "     ---------------------------------        2.0/2.4 MB 662.2 kB/s eta 0:00:01\n",
      "     ---------------------------------        2.0/2.4 MB 662.2 kB/s eta 0:00:01\n",
      "     ---------------------------------        2.0/2.4 MB 662.2 kB/s eta 0:00:01\n",
      "     ---------------------------------        2.0/2.4 MB 662.2 kB/s eta 0:00:01\n",
      "     -----------------------------------      2.1/2.4 MB 652.1 kB/s eta 0:00:01\n",
      "     -----------------------------------      2.2/2.4 MB 649.3 kB/s eta 0:00:01\n",
      "     -----------------------------------      2.2/2.4 MB 643.2 kB/s eta 0:00:01\n",
      "     ------------------------------------     2.2/2.4 MB 643.2 kB/s eta 0:00:01\n",
      "     ------------------------------------     2.2/2.4 MB 637.6 kB/s eta 0:00:01\n",
      "     ------------------------------------     2.2/2.4 MB 634.9 kB/s eta 0:00:01\n",
      "     -------------------------------------    2.2/2.4 MB 634.9 kB/s eta 0:00:01\n",
      "     -------------------------------------    2.3/2.4 MB 626.8 kB/s eta 0:00:01\n",
      "     -------------------------------------    2.3/2.4 MB 627.2 kB/s eta 0:00:01\n",
      "     --------------------------------------   2.3/2.4 MB 624.7 kB/s eta 0:00:01\n",
      "     --------------------------------------   2.3/2.4 MB 619.8 kB/s eta 0:00:01\n",
      "     --------------------------------------   2.3/2.4 MB 617.2 kB/s eta 0:00:01\n",
      "     ---------------------------------------  2.4/2.4 MB 617.8 kB/s eta 0:00:01\n",
      "     ---------------------------------------  2.4/2.4 MB 617.8 kB/s eta 0:00:01\n",
      "     ---------------------------------------  2.4/2.4 MB 610.8 kB/s eta 0:00:01\n",
      "     ---------------------------------------  2.4/2.4 MB 611.2 kB/s eta 0:00:01\n",
      "     ---------------------------------------  2.4/2.4 MB 611.2 kB/s eta 0:00:01\n",
      "     ---------------------------------------- 2.4/2.4 MB 594.9 kB/s eta 0:00:00\n",
      "Requirement already satisfied: pandas>=1.2.0 in c:\\users\\shahzad\\appdata\\local\\programs\\python\\python311\\lib\\site-packages (from pyreadstat) (2.1.1)\n",
      "Requirement already satisfied: numpy>=1.23.2 in c:\\users\\shahzad\\appdata\\local\\programs\\python\\python311\\lib\\site-packages (from pandas>=1.2.0->pyreadstat) (1.24.3)\n",
      "Requirement already satisfied: python-dateutil>=2.8.2 in c:\\users\\shahzad\\appdata\\local\\programs\\python\\python311\\lib\\site-packages (from pandas>=1.2.0->pyreadstat) (2.8.2)\n",
      "Requirement already satisfied: pytz>=2020.1 in c:\\users\\shahzad\\appdata\\local\\programs\\python\\python311\\lib\\site-packages (from pandas>=1.2.0->pyreadstat) (2023.3.post1)\n",
      "Requirement already satisfied: tzdata>=2022.1 in c:\\users\\shahzad\\appdata\\local\\programs\\python\\python311\\lib\\site-packages (from pandas>=1.2.0->pyreadstat) (2023.3)\n",
      "Requirement already satisfied: six>=1.5 in c:\\users\\shahzad\\appdata\\local\\programs\\python\\python311\\lib\\site-packages (from python-dateutil>=2.8.2->pandas>=1.2.0->pyreadstat) (1.16.0)\n",
      "Installing collected packages: pyreadstat\n",
      "Successfully installed pyreadstat-1.2.4\n",
      "Note: you may need to restart the kernel to use updated packages.\n"
     ]
    },
    {
     "name": "stderr",
     "output_type": "stream",
     "text": [
      "\n",
      "[notice] A new release of pip is available: 23.1.2 -> 23.3.1\n",
      "[notice] To update, run: python.exe -m pip install --upgrade pip\n"
     ]
    }
   ],
   "source": [
    "pip install pyreadstat"
   ]
  },
  {
   "cell_type": "code",
   "execution_count": 9,
   "metadata": {},
   "outputs": [
    {
     "data": {
      "text/plain": [
       "(   Gender  Height  Weight  Index\n",
       " 0    Male     174      96      4\n",
       " 1    Male     189      87      2\n",
       " 2  Female     185     110      4\n",
       " 3  Female     195     104      3\n",
       " 4    Male     149      61      3,\n",
       "      Gender  Height  Weight  Index\n",
       " 495  Female     150     153      5\n",
       " 496  Female     184     121      4\n",
       " 497  Female     141     136      5\n",
       " 498    Male     150      95      5\n",
       " 499    Male     173     131      5)"
      ]
     },
     "execution_count": 9,
     "metadata": {},
     "output_type": "execute_result"
    }
   ],
   "source": [
    "import pandas as pd\n",
    "import numpy as np\n",
    "import matplotlib.pyplot as plt\n",
    "import seaborn as sns\n",
    "import plotly as px\n",
    "import pyreadstat\n",
    "\n",
    "df = pd.read_csv('bmi.csv')\n",
    "df.head(), df.tail()"
   ]
  },
  {
   "cell_type": "code",
   "execution_count": 13,
   "metadata": {},
   "outputs": [
    {
     "data": {
      "text/plain": [
       "((500, 4), 2000)"
      ]
     },
     "execution_count": 13,
     "metadata": {},
     "output_type": "execute_result"
    }
   ],
   "source": [
    "df.shape, df.size"
   ]
  },
  {
   "cell_type": "code",
   "execution_count": 14,
   "metadata": {},
   "outputs": [
    {
     "data": {
      "text/html": [
       "<div>\n",
       "<style scoped>\n",
       "    .dataframe tbody tr th:only-of-type {\n",
       "        vertical-align: middle;\n",
       "    }\n",
       "\n",
       "    .dataframe tbody tr th {\n",
       "        vertical-align: top;\n",
       "    }\n",
       "\n",
       "    .dataframe thead th {\n",
       "        text-align: right;\n",
       "    }\n",
       "</style>\n",
       "<table border=\"1\" class=\"dataframe\">\n",
       "  <thead>\n",
       "    <tr style=\"text-align: right;\">\n",
       "      <th></th>\n",
       "      <th>Gender</th>\n",
       "      <th>Height</th>\n",
       "      <th>Weight</th>\n",
       "      <th>Index</th>\n",
       "    </tr>\n",
       "  </thead>\n",
       "  <tbody>\n",
       "    <tr>\n",
       "      <th>0</th>\n",
       "      <td>Male</td>\n",
       "      <td>174</td>\n",
       "      <td>96</td>\n",
       "      <td>4</td>\n",
       "    </tr>\n",
       "    <tr>\n",
       "      <th>1</th>\n",
       "      <td>Male</td>\n",
       "      <td>189</td>\n",
       "      <td>87</td>\n",
       "      <td>2</td>\n",
       "    </tr>\n",
       "    <tr>\n",
       "      <th>2</th>\n",
       "      <td>Female</td>\n",
       "      <td>185</td>\n",
       "      <td>110</td>\n",
       "      <td>4</td>\n",
       "    </tr>\n",
       "    <tr>\n",
       "      <th>3</th>\n",
       "      <td>Female</td>\n",
       "      <td>195</td>\n",
       "      <td>104</td>\n",
       "      <td>3</td>\n",
       "    </tr>\n",
       "    <tr>\n",
       "      <th>4</th>\n",
       "      <td>Male</td>\n",
       "      <td>149</td>\n",
       "      <td>61</td>\n",
       "      <td>3</td>\n",
       "    </tr>\n",
       "    <tr>\n",
       "      <th>5</th>\n",
       "      <td>Male</td>\n",
       "      <td>189</td>\n",
       "      <td>104</td>\n",
       "      <td>3</td>\n",
       "    </tr>\n",
       "    <tr>\n",
       "      <th>6</th>\n",
       "      <td>Male</td>\n",
       "      <td>147</td>\n",
       "      <td>92</td>\n",
       "      <td>5</td>\n",
       "    </tr>\n",
       "    <tr>\n",
       "      <th>7</th>\n",
       "      <td>Male</td>\n",
       "      <td>154</td>\n",
       "      <td>111</td>\n",
       "      <td>5</td>\n",
       "    </tr>\n",
       "    <tr>\n",
       "      <th>8</th>\n",
       "      <td>Male</td>\n",
       "      <td>174</td>\n",
       "      <td>90</td>\n",
       "      <td>3</td>\n",
       "    </tr>\n",
       "    <tr>\n",
       "      <th>9</th>\n",
       "      <td>Female</td>\n",
       "      <td>169</td>\n",
       "      <td>103</td>\n",
       "      <td>4</td>\n",
       "    </tr>\n",
       "    <tr>\n",
       "      <th>10</th>\n",
       "      <td>Male</td>\n",
       "      <td>195</td>\n",
       "      <td>81</td>\n",
       "      <td>2</td>\n",
       "    </tr>\n",
       "  </tbody>\n",
       "</table>\n",
       "</div>"
      ],
      "text/plain": [
       "    Gender  Height  Weight  Index\n",
       "0     Male     174      96      4\n",
       "1     Male     189      87      2\n",
       "2   Female     185     110      4\n",
       "3   Female     195     104      3\n",
       "4     Male     149      61      3\n",
       "5     Male     189     104      3\n",
       "6     Male     147      92      5\n",
       "7     Male     154     111      5\n",
       "8     Male     174      90      3\n",
       "9   Female     169     103      4\n",
       "10    Male     195      81      2"
      ]
     },
     "execution_count": 14,
     "metadata": {},
     "output_type": "execute_result"
    }
   ],
   "source": [
    "df.head(11)"
   ]
  },
  {
   "cell_type": "code",
   "execution_count": 15,
   "metadata": {},
   "outputs": [
    {
     "name": "stdout",
     "output_type": "stream",
     "text": [
      "<class 'pandas.core.frame.DataFrame'>\n",
      "RangeIndex: 500 entries, 0 to 499\n",
      "Data columns (total 4 columns):\n",
      " #   Column  Non-Null Count  Dtype \n",
      "---  ------  --------------  ----- \n",
      " 0   Gender  500 non-null    object\n",
      " 1   Height  500 non-null    int64 \n",
      " 2   Weight  500 non-null    int64 \n",
      " 3   Index   500 non-null    int64 \n",
      "dtypes: int64(3), object(1)\n",
      "memory usage: 15.8+ KB\n"
     ]
    }
   ],
   "source": [
    "df.info() # give data summary"
   ]
  },
  {
   "cell_type": "code",
   "execution_count": null,
   "metadata": {},
   "outputs": [],
   "source": []
  }
 ],
 "metadata": {
  "kernelspec": {
   "display_name": "Python 3",
   "language": "python",
   "name": "python3"
  },
  "language_info": {
   "codemirror_mode": {
    "name": "ipython",
    "version": 3
   },
   "file_extension": ".py",
   "mimetype": "text/x-python",
   "name": "python",
   "nbconvert_exporter": "python",
   "pygments_lexer": "ipython3",
   "version": "3.11.4"
  }
 },
 "nbformat": 4,
 "nbformat_minor": 2
}
